{
  "nbformat": 4,
  "nbformat_minor": 0,
  "metadata": {
    "colab": {
      "provenance": []
    },
    "kernelspec": {
      "name": "python3",
      "display_name": "Python 3"
    },
    "language_info": {
      "name": "python"
    }
  },
  "cells": [
    {
      "cell_type": "code",
      "execution_count": 10,
      "metadata": {
        "id": "gTkIiw9w_XwN"
      },
      "outputs": [],
      "source": [
        "# DATASET is exoplanet data from NASA\n",
        "# https://exoplanetarchive.ipac.caltech.edu/cgi-bin/TblView/nph-tblView?app=ExoTbls&config=k2pandc"
      ]
    },
    {
      "cell_type": "code",
      "source": [
        "import pandas as pd\n",
        "df = pd.read_csv('sample_data/exoplanet_dataset.csv', on_bad_lines='skip')\n",
        "\n",
        "# Creating train and test datasets based on disposition categories\n",
        "train = df[df['disposition'].isin(['CONFIRMED', 'FALSE POSITIVE'])]\n",
        "test = df[df['disposition'] == 'CANDIDATE']\n",
        "\n",
        "# Checking the sizes of train and test datasets\n",
        "print(\"Train dataset size:\", len(train))\n",
        "print(\"Test dataset size:\", len(test))"
      ],
      "metadata": {
        "colab": {
          "base_uri": "https://localhost:8080/"
        },
        "id": "u5ODGhrI__3f",
        "outputId": "772bd857-54f3-489d-c6d4-86a0a2701ad0"
      },
      "execution_count": 19,
      "outputs": [
        {
          "output_type": "stream",
          "name": "stdout",
          "text": [
            "Train dataset size: 2402\n",
            "Test dataset size: 1370\n"
          ]
        }
      ]
    },
    {
      "cell_type": "code",
      "source": [
        "train.columns"
      ],
      "metadata": {
        "colab": {
          "base_uri": "https://localhost:8080/"
        },
        "id": "O-aDIlm-AFK_",
        "outputId": "3dd312e6-8397-43dd-a8ac-b0887ce6976f"
      },
      "execution_count": 22,
      "outputs": [
        {
          "output_type": "execute_result",
          "data": {
            "text/plain": [
              "Index(['pl_name', 'hostname', 'default_flag', 'disposition', 'disp_refname',\n",
              "       'sy_snum', 'sy_pnum', 'discoverymethod', 'disc_year', 'disc_facility',\n",
              "       'soltype', 'pl_controv_flag', 'pl_refname', 'pl_orbper',\n",
              "       'pl_orbpererr1', 'pl_orbpererr2', 'pl_orbperlim', 'pl_orbsmax',\n",
              "       'pl_orbsmaxerr1', 'pl_orbsmaxerr2', 'pl_orbsmaxlim', 'pl_rade',\n",
              "       'pl_radeerr1', 'pl_radeerr2', 'pl_radelim', 'pl_radj', 'pl_radjerr1',\n",
              "       'pl_radjerr2', 'pl_radjlim', 'pl_bmasse', 'pl_bmasseerr1',\n",
              "       'pl_bmasseerr2', 'pl_bmasselim', 'pl_bmassj', 'pl_bmassjerr1',\n",
              "       'pl_bmassjerr2', 'pl_bmassjlim', 'pl_bmassprov', 'pl_orbeccen',\n",
              "       'pl_orbeccenerr1', 'pl_orbeccenerr2', 'pl_orbeccenlim', 'pl_insol',\n",
              "       'pl_insolerr1', 'pl_insolerr2', 'pl_insollim', 'pl_eqt', 'pl_eqterr1',\n",
              "       'pl_eqterr2', 'pl_eqtlim', 'ttv_flag', 'st_refname', 'st_spectype',\n",
              "       'st_teff', 'st_tefferr1', 'st_tefferr2', 'st_tefflim', 'st_rad',\n",
              "       'st_raderr1', 'st_raderr2', 'st_radlim', 'st_mass', 'st_masserr1',\n",
              "       'st_masserr2', 'st_masslim', 'st_met', 'st_meterr1', 'st_meterr2',\n",
              "       'st_metlim', 'st_metratio', 'st_logg', 'st_loggerr1', 'st_loggerr2',\n",
              "       'st_logglim', 'sy_refname', 'rastr', 'ra', 'decstr', 'dec', 'sy_dist',\n",
              "       'sy_disterr1', 'sy_disterr2', 'sy_vmag', 'sy_vmagerr1', 'sy_vmagerr2',\n",
              "       'sy_kmag', 'sy_kmagerr1', 'sy_kmagerr2', 'sy_gaiamag', 'sy_gaiamagerr1',\n",
              "       'sy_gaiamagerr2', 'rowupdate', 'pl_pubdate', 'releasedate'],\n",
              "      dtype='object')"
            ]
          },
          "metadata": {},
          "execution_count": 22
        }
      ]
    },
    {
      "cell_type": "code",
      "source": [
        "selected_columns = ['disposition', 'pl_name', 'hostname','sy_snum', 'sy_pnum', 'discoverymethod',\n",
        "                     'pl_controv_flag', 'pl_orbper',\n",
        "                    'pl_orbpererr1', 'pl_orbpererr2', 'pl_orbperlim', 'pl_orbsmax',\n",
        "                    'pl_orbsmaxerr1', 'pl_orbsmaxerr2', 'pl_orbsmaxlim', 'pl_rade',\n",
        "                    'pl_radeerr1', 'pl_radeerr2', 'pl_radelim', 'pl_radj', 'pl_radjerr1',\n",
        "                    'pl_radjerr2', 'pl_radjlim', 'pl_bmasse', 'pl_bmasseerr1',\n",
        "                    'pl_bmasseerr2', 'pl_bmasselim', 'pl_bmassj', 'pl_bmassjerr1',\n",
        "                    'pl_bmassjerr2', 'pl_bmassjlim', 'pl_bmassprov', 'pl_orbeccen',\n",
        "                    'pl_orbeccenerr1', 'pl_orbeccenerr2', 'pl_orbeccenlim', 'pl_insol',\n",
        "                    'pl_insolerr1', 'pl_insolerr2', 'pl_insollim', 'pl_eqt', 'pl_eqterr1',\n",
        "                    'pl_eqterr2', 'pl_eqtlim', 'ttv_flag', 'st_spectype',\n",
        "                    'st_teff', 'st_tefferr1', 'st_tefferr2', 'st_tefflim', 'st_rad',\n",
        "                    'st_raderr1', 'st_raderr2', 'st_radlim', 'st_mass', 'st_masserr1',\n",
        "                    'st_masserr2', 'st_masslim', 'st_met', 'st_meterr1', 'st_meterr2',\n",
        "                    'st_metlim', 'st_metratio', 'st_logg', 'st_loggerr1', 'st_loggerr2',\n",
        "                    'st_logglim', 'rastr', 'ra', 'decstr', 'dec', 'sy_dist',\n",
        "                    'sy_disterr1', 'sy_disterr2', 'sy_vmag', 'sy_vmagerr1', 'sy_vmagerr2',\n",
        "                    'sy_kmag', 'sy_kmagerr1', 'sy_kmagerr2', 'sy_gaiamag', 'sy_gaiamagerr1',\n",
        "                    'sy_gaiamagerr2']\n",
        "\n",
        "selected_labeled = train[selected_columns]\n",
        "selected_unlabeled = test[selected_columns]"
      ],
      "metadata": {
        "id": "JwrUNK18Bo1a"
      },
      "execution_count": 74,
      "outputs": []
    },
    {
      "cell_type": "code",
      "source": [
        "import pandas as pd\n",
        "\n",
        "# Assuming processed_df contains the transformed DataFrame\n",
        "\n",
        "# Separating numeric columns\n",
        "numeric_columns = selected_labeled.select_dtypes(include=['float64', 'int64']).columns.tolist()\n",
        "\n",
        "# Separating non-numeric columns (categorical columns after one-hot encoding)\n",
        "non_numeric_columns = [col for col in selected_labeled.columns if col not in numeric_columns]\n",
        "\n",
        "\n",
        "# Creating DataFrames for numeric and non-numeric columns\n",
        "x_labeled = selected_labeled[numeric_columns].fillna(0)\n",
        "non_numeric_df = selected_labeled[non_numeric_columns]\n",
        "y_labeled = selected_labeled['disposition']\n",
        "\n",
        "x_unlabeled = selected_unlabeled[numeric_columns].fillna(0)"
      ],
      "metadata": {
        "id": "p8AsAWuODYWf"
      },
      "execution_count": 75,
      "outputs": []
    },
    {
      "cell_type": "code",
      "source": [
        "from sklearn.ensemble import GradientBoostingClassifier\n",
        "from sklearn.model_selection import train_test_split\n",
        "from sklearn.metrics import accuracy_score\n",
        "\n",
        "# Assuming x_train contains the features and y_train contains the target variable\n",
        "\n",
        "# Splitting data into training and testing sets\n",
        "x_train, x_test, y_train, y_test = train_test_split(x_labeled, y_labeled, test_size=0.2, random_state=42)\n",
        "\n",
        "# Initialize Gradient Boosting Classifier\n",
        "gradient_boosting = GradientBoostingClassifier()\n",
        "\n",
        "# Fit the model\n",
        "gradient_boosting.fit(x_train, y_train)\n",
        "\n",
        "# Predict on the test set\n",
        "predictions = gradient_boosting.predict(x_test)\n",
        "\n",
        "# Calculate accuracy on the test set\n",
        "accuracy = accuracy_score(y_test, predictions)\n",
        "print(f\"Accuracy: {accuracy}\")\n"
      ],
      "metadata": {
        "colab": {
          "base_uri": "https://localhost:8080/"
        },
        "id": "dJnmJc2TD-R0",
        "outputId": "a3e435a8-3fb3-48cb-914e-c33b6f8cebac"
      },
      "execution_count": 76,
      "outputs": [
        {
          "output_type": "stream",
          "name": "stdout",
          "text": [
            "Accuracy: 1.0\n"
          ]
        }
      ]
    },
    {
      "cell_type": "code",
      "source": [
        "predictions_unlabeled = gradient_boosting.predict(x_unlabeled)\n",
        "\n",
        "# Create a copy of x_unlabeled DataFrame to avoid modifying the original data\n",
        "selected_unlabeled_with_predictions = selected_unlabeled.copy()\n",
        "\n",
        "# Add predictions as a new column named 'prediction' at the beginning of the DataFrame\n",
        "selected_unlabeled_with_predictions.insert(0, 'prediction', predictions_unlabeled)\n",
        "\n",
        "# Save the modified DataFrame with predictions as a CSV file\n",
        "selected_unlabeled_with_predictions.to_csv('predictions.csv', index=False)\n"
      ],
      "metadata": {
        "id": "fAZ57yOqGJJF"
      },
      "execution_count": 77,
      "outputs": []
    },
    {
      "cell_type": "code",
      "source": [],
      "metadata": {
        "id": "NsaMbkCDGnr_"
      },
      "execution_count": null,
      "outputs": []
    }
  ]
}